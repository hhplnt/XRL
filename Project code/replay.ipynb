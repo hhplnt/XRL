{
 "cells": [
  {
   "cell_type": "markdown",
   "id": "afa23c94-7412-40c4-9b60-b22d5f852b7f",
   "metadata": {},
   "source": [
    "## First create network\n"
   ]
  },
  {
   "cell_type": "code",
   "execution_count": 1,
   "id": "10f9dff2-fc35-43db-afb8-f824d6c96e52",
   "metadata": {
    "tags": []
   },
   "outputs": [
    {
     "name": "stderr",
     "output_type": "stream",
     "text": [
      "C:\\Users\\olive\\yawning_titan\\.venv\\lib\\site-packages\\tqdm\\auto.py:21: TqdmWarning: IProgress not found. Please update jupyter and ipywidgets. See https://ipywidgets.readthedocs.io/en/stable/user_install.html\n",
      "  from .autonotebook import tqdm as notebook_tqdm\n"
     ]
    }
   ],
   "source": [
    "from yawning_titan.networks.node import Node\n",
    "from yawning_titan.networks.network import Network\n",
    "\n",
    "#Import packages - SB3\n",
    "import time\n",
    "from stable_baselines3.common.env_checker import check_env\n",
    "from stable_baselines3.common.evaluation import evaluate_policy\n",
    "from stable_baselines3.common.callbacks import EvalCallback\n",
    "from stable_baselines3.common.monitor import Monitor\n",
    "from stable_baselines3 import A2C, DQN, PPO\n",
    "from stable_baselines3.ppo import MlpPolicy as PPOMlp\n",
    "\n",
    "from yawning_titan.envs.generic.core.blue_interface import BlueInterface\n",
    "from yawning_titan.envs.generic.core.red_interface import RedInterface\n",
    "from yawning_titan.envs.generic.generic_env import GenericNetworkEnv\n",
    "from yawning_titan.envs.generic.core.action_loops import ActionLoop\n",
    "from yawning_titan.envs.generic.core.network_interface import NetworkInterface\n",
    "from yawning_titan.networks.network_db import default_18_node_network\n",
    "import yawning_titan.game_modes\n",
    "from yawning_titan.envs.generic.core.action_loops import ActionLoop"
   ]
  },
  {
   "cell_type": "code",
   "execution_count": 2,
   "id": "b89cb44c-2dba-40c1-9036-60f8ecd0aa8b",
   "metadata": {
    "tags": []
   },
   "outputs": [
    {
     "name": "stdout",
     "output_type": "stream",
     "text": [
      "UUID                                  Name    High Value Node    Entry Node      Vulnerability  Position (x,y)\n",
      "------------------------------------  ------  -----------------  ------------  ---------------  ----------------\n",
      "20d8ed52-7ff6-4979-be62-1244821fd527  PC 1    False              True                      0.5  -1.00, 0.01\n",
      "d626d0a9-b31e-4e90-97cf-0c8208e35245  PC 2    False              False                     0.5  -0.50, 0.01\n",
      "6fed26e9-788d-48c8-b56f-251a6a57e6f1  PC 3    False              False                     0.5  0.00, 0.01\n",
      "32c70577-46ef-4002-8a79-de03e13821c9  PC 4    False              False                     0.5  0.50, 0.01\n",
      "0227c961-870c-43d5-8c73-c564af3b9a5e  PC 5    True               False                     0.5  1.00, 0.01\n"
     ]
    }
   ],
   "source": [
    "# Instantiate the Network\n",
    "network = Network()\n",
    "\n",
    "# Instantiate the Node's and add them to the Network\n",
    " \n",
    "pc_1 = Node(\"PC 1\")\n",
    "network.add_node(pc_1)\n",
    "pc_1.x_pos = -1.00\n",
    "pc_1.y_pos = 0.01\n",
    "pc_1.entry_node = True\n",
    "pc_1.vulnerability = 0.5\n",
    "\n",
    "pc_2 = Node(\"PC 2\")\n",
    "network.add_node(pc_2)\n",
    "pc_2.x_pos = -0.50\n",
    "pc_2.y_pos = 0.01\n",
    "pc_2.vulnerability = 0.5\n",
    "\n",
    "pc_3 = Node(\"PC 3\")\n",
    "network.add_node(pc_3)\n",
    "pc_3.x_pos = 0.00\n",
    "pc_3.y_pos = 0.01\n",
    "pc_3.vulnerability = 0.5\n",
    "\n",
    "pc_4 = Node(\"PC 4\")\n",
    "network.add_node(pc_4)\n",
    "pc_4.x_pos = 0.50\n",
    "pc_4.y_pos = 0.01\n",
    "pc_4.vulnerability = 0.5\n",
    "\n",
    "pc_5 = Node(\"PC 5\")\n",
    "network.add_node(pc_5)\n",
    "pc_5.x_pos = 1.00\n",
    "pc_5.y_pos = 0.01\n",
    "pc_5.high_value_node = True\n",
    "pc_5.vulnerability = 0.5\n",
    "\n",
    "\n",
    "# Add the edges between Node's\n",
    "network.add_edge(pc_1, pc_2)\n",
    "network.add_edge(pc_2, pc_3)\n",
    "network.add_edge(pc_3, pc_4)\n",
    "network.add_edge(pc_4, pc_5)\n",
    "\n",
    "\n",
    "\n",
    "# Reset the entry nodes, high value nodes, and vulnerability scores by calling .setup()\n",
    "# network.reset()\n",
    "\n",
    "# View the Networks Node Details\n",
    "network.show(verbose=True)"
   ]
  },
  {
   "cell_type": "code",
   "execution_count": 3,
   "id": "fa0781bc",
   "metadata": {},
   "outputs": [],
   "source": [
    "## Using DB\n",
    "from yawning_titan.game_modes.game_mode_db import GameModeDB, GameModeSchema\n",
    "from yawning_titan.db.doc_metadata import DocMetadataSchema\n",
    "db = GameModeDB()"
   ]
  },
  {
   "cell_type": "code",
   "execution_count": 4,
   "id": "70f8ac7d",
   "metadata": {},
   "outputs": [
    {
     "name": "stdout",
     "output_type": "stream",
     "text": [
      "name               author              locked    uuid\n",
      "-----------------  ------------------  --------  ------------------------------------\n",
      "DCBO Agent Config  dstl/YAWNING-TITAN  True      bac2cb9d-b24b-426c-88a5-5edd0c2de413\n",
      "Default Game Mode  dstl/YAWNING-TITAN  True      900a704f-6271-4994-ade7-40b74d3199b1\n",
      "Low skill red      dstl/YAWNING-TITAN  True      3ccd9988-8781-4c3e-9c75-44cc987ae6af\n",
      "simple_mode        Hannah Harrison     False     919da33c-7bc9-4d29-99eb-097a7e9bb016\n",
      "no_zero_day        Hannah Harrison     False     fe76bb6c-4806-41af-aaf3-ac78d2942021\n"
     ]
    }
   ],
   "source": [
    "db.show(True)"
   ]
  },
  {
   "cell_type": "code",
   "execution_count": 5,
   "id": "6b5bb5d0",
   "metadata": {},
   "outputs": [],
   "source": [
    "simple_mode = db.get(\"919da33c-7bc9-4d29-99eb-097a7e9bb016\")"
   ]
  },
  {
   "cell_type": "code",
   "execution_count": 6,
   "id": "e66e1add-8ee8-4d54-81e2-71e1fa62cfa4",
   "metadata": {
    "tags": []
   },
   "outputs": [],
   "source": [
    "## Build network interface\n",
    "s_network_interface = NetworkInterface(game_mode=simple_mode, network=network)"
   ]
  },
  {
   "cell_type": "code",
   "execution_count": 7,
   "id": "2c014789-0765-48b4-831b-46860bec4fee",
   "metadata": {
    "tags": []
   },
   "outputs": [],
   "source": [
    "## Name agents\n",
    "red = RedInterface(s_network_interface)\n",
    "blue = BlueInterface(s_network_interface)"
   ]
  },
  {
   "cell_type": "code",
   "execution_count": 8,
   "id": "77f43d14-9df2-4e17-857b-9b6bbbf1d140",
   "metadata": {
    "tags": []
   },
   "outputs": [],
   "source": [
    "## Create environment\n",
    "s_env = GenericNetworkEnv(red, blue, s_network_interface)"
   ]
  },
  {
   "cell_type": "code",
   "execution_count": 9,
   "id": "2d6fd1a8-512e-45ac-8697-4a060d912cdd",
   "metadata": {
    "tags": []
   },
   "outputs": [],
   "source": [
    "## Check compliant with OpenAI gym\n",
    "check_env(s_env, warn=True)\n",
    "_ = s_env.reset()"
   ]
  },
  {
   "cell_type": "markdown",
   "id": "373754fa",
   "metadata": {},
   "source": [
    "## Creating a dataset of states and actions\n",
    "https://colab.research.google.com/github/Stable-Baselines-Team/rl-colab-notebooks/blob/sb3/pretraining.ipynb#scrollTo=Tgx4AMZo8anP"
   ]
  },
  {
   "cell_type": "code",
   "execution_count": 10,
   "id": "c852bdf7",
   "metadata": {
    "scrolled": true
   },
   "outputs": [
    {
     "name": "stdout",
     "output_type": "stream",
     "text": [
      "0.26.3\n"
     ]
    }
   ],
   "source": [
    "import gymnasium as gym\n",
    "from tqdm import tqdm\n",
    "import numpy as np\n",
    "\n",
    "print(f\"{gym.__version__}\")"
   ]
  },
  {
   "cell_type": "code",
   "execution_count": 11,
   "id": "48ecb42e",
   "metadata": {},
   "outputs": [],
   "source": [
    "import torch as th\n",
    "import torch.nn as nn\n",
    "import torch.optim as optim\n",
    "from torch.optim.lr_scheduler import StepLR"
   ]
  },
  {
   "cell_type": "code",
   "execution_count": 12,
   "id": "793e3bde",
   "metadata": {},
   "outputs": [],
   "source": [
    "from stable_baselines3 import PPO, A2C, SAC, TD3\n",
    "from stable_baselines3.common.evaluation import evaluate_policy"
   ]
  },
  {
   "cell_type": "code",
   "execution_count": 13,
   "id": "177fd79c",
   "metadata": {},
   "outputs": [
    {
     "name": "stdout",
     "output_type": "stream",
     "text": [
      "Wrapping the env with a `Monitor` wrapper\n",
      "Wrapping the env in a DummyVecEnv.\n"
     ]
    }
   ],
   "source": [
    "s_ppo_expert = PPO.load('./ppo-s-linear.zip', env= s_env, device='auto', custom_objects=None, print_system_info=False, force_reset=True)"
   ]
  },
  {
   "cell_type": "code",
   "execution_count": 14,
   "id": "b23aa9cf",
   "metadata": {},
   "outputs": [
    {
     "name": "stderr",
     "output_type": "stream",
     "text": [
      "2023-07-31 16:27:25,050::WARNING::py.warnings::_showwarnmsg::109::C:\\Users\\olive\\yawning_titan\\.venv\\lib\\site-packages\\stable_baselines3\\common\\evaluation.py:65: UserWarning: Evaluation environment is not wrapped with a ``Monitor`` wrapper. This may result in reporting modified episode lengths and rewards, if other wrappers happen to modify these. Consider wrapping environment first with ``Monitor`` wrapper.\n",
      "  warnings.warn(\n",
      "\n"
     ]
    },
    {
     "name": "stdout",
     "output_type": "stream",
     "text": [
      "Mean reward = -88.45666600763798 +/- 0.3818813911574492\n"
     ]
    }
   ],
   "source": [
    "mean_reward, std_reward = evaluate_policy(s_ppo_expert, s_env, n_eval_episodes=10)\n",
    "\n",
    "print(f\"Mean reward = {mean_reward} +/- {std_reward}\")"
   ]
  },
  {
   "cell_type": "code",
   "execution_count": 15,
   "id": "c907e925",
   "metadata": {},
   "outputs": [],
   "source": [
    "num_interactions = int(4e4)"
   ]
  },
  {
   "cell_type": "code",
   "execution_count": 19,
   "id": "203f9054",
   "metadata": {},
   "outputs": [
    {
     "name": "stderr",
     "output_type": "stream",
     "text": [
      "100%|██████████████████████████████████████████████████████████████████████████| 40000/40000 [00:31<00:00, 1254.02it/s]\n"
     ]
    }
   ],
   "source": [
    "if isinstance(s_env.action_space, gym.spaces.Box):\n",
    "    expert_observations = np.empty((num_interactions,) + s_env.observation_space.shape)\n",
    "    expert_actions = np.empty((num_interactions,) + (s_env.action_space.shape[0],))\n",
    "\n",
    "else:\n",
    "    expert_observations = np.empty((num_interactions,) + s_env.observation_space.shape)\n",
    "    expert_actions = np.empty((num_interactions,) + s_env.action_space.shape)\n",
    "\n",
    "obs = s_env.reset()\n",
    "\n",
    "for i in tqdm(range(num_interactions)):\n",
    "    action, _ = s_ppo_expert.predict(obs, deterministic=True)\n",
    "    expert_observations[i] = obs\n",
    "    expert_actions[i] = action\n",
    "    obs, reward, terminated, truncated = s_env.step(action)\n",
    "    done = terminated \n",
    "    if done:\n",
    "        obs = s_env.reset()\n",
    "\n",
    "np.savez_compressed(\n",
    "    \"s_expert_data\",\n",
    "    expert_actions=expert_actions,\n",
    "    expert_observations=expert_observations,\n",
    ")"
   ]
  },
  {
   "cell_type": "code",
   "execution_count": 20,
   "id": "a4d82af7",
   "metadata": {},
   "outputs": [
    {
     "name": "stdout",
     "output_type": "stream",
     "text": [
      "{'initial_state': {'20d8ed52-7ff6-4979-be62-1244821fd527': 1, 'd626d0a9-b31e-4e90-97cf-0c8208e35245': 1, '6fed26e9-788d-48c8-b56f-251a6a57e6f1': 0, '32c70577-46ef-4002-8a79-de03e13821c9': 0, '0227c961-870c-43d5-8c73-c564af3b9a5e': 0}, 'initial_blue_view': {'20d8ed52-7ff6-4979-be62-1244821fd527': 1, 'd626d0a9-b31e-4e90-97cf-0c8208e35245': 1, '6fed26e9-788d-48c8-b56f-251a6a57e6f1': 0, '32c70577-46ef-4002-8a79-de03e13821c9': 0, '0227c961-870c-43d5-8c73-c564af3b9a5e': 0}, 'initial_vulnerabilities': {'20d8ed52-7ff6-4979-be62-1244821fd527': 0.5, 'd626d0a9-b31e-4e90-97cf-0c8208e35245': 0.5, '6fed26e9-788d-48c8-b56f-251a6a57e6f1': 0.5, '32c70577-46ef-4002-8a79-de03e13821c9': 0.5, '0227c961-870c-43d5-8c73-c564af3b9a5e': 0.01}, 'initial_red_location': Node(uuid='d626d0a9-b31e-4e90-97cf-0c8208e35245', name='PC 2', high_value_node=False, entry_node=False, vulnerability=0.5, x_pos=-0.5, y_pos=0.01), 'initial_graph': {Node(uuid='20d8ed52-7ff6-4979-be62-1244821fd527', name='PC 1', high_value_node=False, entry_node=True, vulnerability=0.5, x_pos=-1.0, y_pos=0.01): {Node(uuid='d626d0a9-b31e-4e90-97cf-0c8208e35245', name='PC 2', high_value_node=False, entry_node=False, vulnerability=0.5, x_pos=-0.5, y_pos=0.01): {}}, Node(uuid='d626d0a9-b31e-4e90-97cf-0c8208e35245', name='PC 2', high_value_node=False, entry_node=False, vulnerability=0.5, x_pos=-0.5, y_pos=0.01): {Node(uuid='20d8ed52-7ff6-4979-be62-1244821fd527', name='PC 1', high_value_node=False, entry_node=True, vulnerability=0.5, x_pos=-1.0, y_pos=0.01): {}, Node(uuid='6fed26e9-788d-48c8-b56f-251a6a57e6f1', name='PC 3', high_value_node=False, entry_node=False, vulnerability=0.5, x_pos=0.0, y_pos=0.01): {}}, Node(uuid='6fed26e9-788d-48c8-b56f-251a6a57e6f1', name='PC 3', high_value_node=False, entry_node=False, vulnerability=0.5, x_pos=0.0, y_pos=0.01): {Node(uuid='d626d0a9-b31e-4e90-97cf-0c8208e35245', name='PC 2', high_value_node=False, entry_node=False, vulnerability=0.5, x_pos=-0.5, y_pos=0.01): {}, Node(uuid='32c70577-46ef-4002-8a79-de03e13821c9', name='PC 4', high_value_node=False, entry_node=False, vulnerability=0.5, x_pos=0.5, y_pos=0.01): {}}, Node(uuid='32c70577-46ef-4002-8a79-de03e13821c9', name='PC 4', high_value_node=False, entry_node=False, vulnerability=0.5, x_pos=0.5, y_pos=0.01): {Node(uuid='6fed26e9-788d-48c8-b56f-251a6a57e6f1', name='PC 3', high_value_node=False, entry_node=False, vulnerability=0.5, x_pos=0.0, y_pos=0.01): {}, Node(uuid='0227c961-870c-43d5-8c73-c564af3b9a5e', name='PC 5', high_value_node=True, entry_node=False, vulnerability=0.5, x_pos=1.0, y_pos=0.01): {}}, Node(uuid='0227c961-870c-43d5-8c73-c564af3b9a5e', name='PC 5', high_value_node=True, entry_node=False, vulnerability=0.5, x_pos=1.0, y_pos=0.01): {Node(uuid='32c70577-46ef-4002-8a79-de03e13821c9', name='PC 4', high_value_node=False, entry_node=False, vulnerability=0.5, x_pos=0.5, y_pos=0.01): {}}}, 'current_step': 5, 'red_info': {0: {'Action': 'basic_attack', 'Attacking_Nodes': [Node(uuid='d626d0a9-b31e-4e90-97cf-0c8208e35245', name='PC 2', high_value_node=False, entry_node=False, vulnerability=0.5, x_pos=-0.5, y_pos=0.01)], 'Target_Nodes': [Node(uuid='6fed26e9-788d-48c8-b56f-251a6a57e6f1', name='PC 3', high_value_node=False, entry_node=False, vulnerability=0.5, x_pos=0.0, y_pos=0.01)], 'Successes': [True]}}, 'post_red_state': {'20d8ed52-7ff6-4979-be62-1244821fd527': 1, 'd626d0a9-b31e-4e90-97cf-0c8208e35245': 1, '6fed26e9-788d-48c8-b56f-251a6a57e6f1': 1, '32c70577-46ef-4002-8a79-de03e13821c9': 0, '0227c961-870c-43d5-8c73-c564af3b9a5e': 0}, 'post_red_blue_view': {'20d8ed52-7ff6-4979-be62-1244821fd527': 1, 'd626d0a9-b31e-4e90-97cf-0c8208e35245': 1, '6fed26e9-788d-48c8-b56f-251a6a57e6f1': 1, '32c70577-46ef-4002-8a79-de03e13821c9': 0, '0227c961-870c-43d5-8c73-c564af3b9a5e': 0}, 'post_red_vulnerabilities': {'20d8ed52-7ff6-4979-be62-1244821fd527': 0.5, 'd626d0a9-b31e-4e90-97cf-0c8208e35245': 0.5, '6fed26e9-788d-48c8-b56f-251a6a57e6f1': 0.5, '32c70577-46ef-4002-8a79-de03e13821c9': 0.5, '0227c961-870c-43d5-8c73-c564af3b9a5e': 0.01}, 'post_red_isolation': {'20d8ed52-7ff6-4979-be62-1244821fd527': False, 'd626d0a9-b31e-4e90-97cf-0c8208e35245': False, '6fed26e9-788d-48c8-b56f-251a6a57e6f1': False, '32c70577-46ef-4002-8a79-de03e13821c9': False, '0227c961-870c-43d5-8c73-c564af3b9a5e': False}, 'post_red_red_location': Node(uuid='6fed26e9-788d-48c8-b56f-251a6a57e6f1', name='PC 3', high_value_node=False, entry_node=False, vulnerability=0.5, x_pos=0.0, y_pos=0.01), 'end_blue_view': {'20d8ed52-7ff6-4979-be62-1244821fd527': 1, 'd626d0a9-b31e-4e90-97cf-0c8208e35245': 1, '6fed26e9-788d-48c8-b56f-251a6a57e6f1': 1, '32c70577-46ef-4002-8a79-de03e13821c9': 0, '0227c961-870c-43d5-8c73-c564af3b9a5e': 0}, 'end_state': {'20d8ed52-7ff6-4979-be62-1244821fd527': 1, 'd626d0a9-b31e-4e90-97cf-0c8208e35245': 1, '6fed26e9-788d-48c8-b56f-251a6a57e6f1': 1, '32c70577-46ef-4002-8a79-de03e13821c9': 0, '0227c961-870c-43d5-8c73-c564af3b9a5e': 0}, 'final_vulnerabilities': {'20d8ed52-7ff6-4979-be62-1244821fd527': 0.5, 'd626d0a9-b31e-4e90-97cf-0c8208e35245': 0.5, '6fed26e9-788d-48c8-b56f-251a6a57e6f1': 0.5, '32c70577-46ef-4002-8a79-de03e13821c9': 0.5, '0227c961-870c-43d5-8c73-c564af3b9a5e': 0.01}, 'final_red_location': Node(uuid='6fed26e9-788d-48c8-b56f-251a6a57e6f1', name='PC 3', high_value_node=False, entry_node=False, vulnerability=0.5, x_pos=0.0, y_pos=0.01), 'safe_nodes': 2, 'blue_action': 'make_node_safe', 'blue_node': Node(uuid='0227c961-870c-43d5-8c73-c564af3b9a5e', name='PC 5', high_value_node=True, entry_node=False, vulnerability=0.5, x_pos=1.0, y_pos=0.01), 'attacks': [[Node(uuid='d626d0a9-b31e-4e90-97cf-0c8208e35245', name='PC 2', high_value_node=False, entry_node=False, vulnerability=0.5, x_pos=-0.5, y_pos=0.01), Node(uuid='6fed26e9-788d-48c8-b56f-251a6a57e6f1', name='PC 3', high_value_node=False, entry_node=False, vulnerability=0.5, x_pos=0.0, y_pos=0.01)]], 'end_isolation': {'20d8ed52-7ff6-4979-be62-1244821fd527': False, 'd626d0a9-b31e-4e90-97cf-0c8208e35245': False, '6fed26e9-788d-48c8-b56f-251a6a57e6f1': False, '32c70577-46ef-4002-8a79-de03e13821c9': False, '0227c961-870c-43d5-8c73-c564af3b9a5e': False}}\n"
     ]
    }
   ],
   "source": [
    "print(truncated)"
   ]
  },
  {
   "cell_type": "code",
   "execution_count": 21,
   "id": "78be0d8d",
   "metadata": {},
   "outputs": [
    {
     "name": "stdout",
     "output_type": "stream",
     "text": [
      "['expert_actions', 'expert_observations']\n"
     ]
    }
   ],
   "source": [
    "b = np.load('s_expert_data.npz')\n",
    "print(b.files)"
   ]
  },
  {
   "cell_type": "code",
   "execution_count": 22,
   "id": "57e48d99",
   "metadata": {},
   "outputs": [
    {
     "data": {
      "text/plain": [
       "1.0"
      ]
     },
     "execution_count": 22,
     "metadata": {},
     "output_type": "execute_result"
    }
   ],
   "source": [
    "b['expert_actions'][34] "
   ]
  },
  {
   "cell_type": "code",
   "execution_count": 23,
   "id": "82fb17cf",
   "metadata": {},
   "outputs": [
    {
     "data": {
      "text/plain": [
       "array([0.        , 1.        , 0.        , 0.        , 0.        ,\n",
       "       1.        , 0.        , 1.        , 0.        , 0.        ,\n",
       "       0.        , 1.        , 0.        , 1.        , 0.        ,\n",
       "       0.        , 0.        , 1.        , 0.        , 1.        ,\n",
       "       0.        , 0.        , 0.        , 1.        , 0.        ,\n",
       "       0.        , 0.        , 0.        , 0.        , 0.        ,\n",
       "       1.        , 1.        , 0.        , 0.        , 0.        ,\n",
       "       0.5       , 0.5       , 0.5       , 0.5       , 0.01      ,\n",
       "       0.        , 0.        , 0.        , 0.        , 0.        ,\n",
       "       0.        , 0.        , 0.        , 0.        , 0.        ,\n",
       "       1.        , 0.        , 0.        , 0.        , 0.        ,\n",
       "       0.        , 0.        , 0.        , 0.        , 1.        ,\n",
       "       0.69999999])"
      ]
     },
     "execution_count": 23,
     "metadata": {},
     "output_type": "execute_result"
    }
   ],
   "source": [
    "b['expert_observations'][-1] #54!"
   ]
  },
  {
   "cell_type": "code",
   "execution_count": null,
   "id": "3242b7fa",
   "metadata": {},
   "outputs": [],
   "source": []
  }
 ],
 "metadata": {
  "kernelspec": {
   "display_name": "Python 3 (ipykernel)",
   "language": "python",
   "name": "python3"
  },
  "language_info": {
   "codemirror_mode": {
    "name": "ipython",
    "version": 3
   },
   "file_extension": ".py",
   "mimetype": "text/x-python",
   "name": "python",
   "nbconvert_exporter": "python",
   "pygments_lexer": "ipython3",
   "version": "3.10.9"
  }
 },
 "nbformat": 4,
 "nbformat_minor": 5
}
