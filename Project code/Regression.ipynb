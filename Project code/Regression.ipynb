{
 "cells": [
  {
   "cell_type": "markdown",
   "id": "82e7cf37",
   "metadata": {},
   "source": [
    "# Learning the structural equations"
   ]
  },
  {
   "cell_type": "code",
   "execution_count": null,
   "id": "35a7c4d2",
   "metadata": {
    "scrolled": true
   },
   "outputs": [],
   "source": [
    "# Load replay data\n",
    "\n",
    "import pandas as pd\n",
    " \n",
    "# reading csv file\n",
    "df = pd.read_csv(\"replay_df.csv\")\n",
    "print(df.head(40))"
   ]
  },
  {
   "cell_type": "code",
   "execution_count": null,
   "id": "77ce37c5",
   "metadata": {},
   "outputs": [],
   "source": [
    "df['v5'][114]"
   ]
  },
  {
   "cell_type": "code",
   "execution_count": null,
   "id": "f5bad594",
   "metadata": {
    "scrolled": false
   },
   "outputs": [],
   "source": [
    "df = df.drop(df.columns[[0]], axis =1)\n",
    "print(df.head())"
   ]
  },
  {
   "cell_type": "code",
   "execution_count": null,
   "id": "99c09994",
   "metadata": {},
   "outputs": [],
   "source": [
    "#df = pd.concat([df, t_df], axis=0)\n",
    "#df=df.dropna(axis=0)\n",
    "#df.Action.round(0)\n",
    "#print(df)\n",
    "df.v1.unique()"
   ]
  },
  {
   "cell_type": "code",
   "execution_count": null,
   "id": "25ccace9",
   "metadata": {},
   "outputs": [],
   "source": [
    "import numpy\n",
    "from sklearn import linear_model\n",
    "from sklearn.model_selection import train_test_split"
   ]
  },
  {
   "cell_type": "markdown",
   "id": "ba0ac791",
   "metadata": {},
   "source": [
    "### Action function"
   ]
  },
  {
   "cell_type": "code",
   "execution_count": null,
   "id": "a6c082bf",
   "metadata": {},
   "outputs": [],
   "source": [
    "Xa = df[['c1', 'c2', 'c3', 'c4', 'v1', 'v2', 'v3', 'v4', 'v5']] \n",
    "A = df['Action']\n",
    "\n",
    "Xa_train, Xa_test, ya_train, ya_test = train_test_split(Xa,A, train_size=0.9)\n",
    "\n",
    "\n",
    "lr_a = linear_model.LogisticRegression(max_iter = 10000)\n",
    "lr_a.fit(Xa_train, ya_train)"
   ]
  },
  {
   "cell_type": "code",
   "execution_count": null,
   "id": "8a42e749",
   "metadata": {},
   "outputs": [],
   "source": []
  },
  {
   "cell_type": "code",
   "execution_count": null,
   "id": "71a5def7",
   "metadata": {},
   "outputs": [],
   "source": [
    "predicted_a = lr_a.predict(Xa_test)\n",
    "print(predicted_a)"
   ]
  },
  {
   "cell_type": "code",
   "execution_count": null,
   "id": "74dd14df",
   "metadata": {},
   "outputs": [],
   "source": [
    "from sklearn.metrics import accuracy_score"
   ]
  },
  {
   "cell_type": "code",
   "execution_count": null,
   "id": "eae50a33",
   "metadata": {},
   "outputs": [],
   "source": [
    "score = accuracy_score(ya_test,predicted_a)\n",
    "print(score)"
   ]
  },
  {
   "cell_type": "code",
   "execution_count": null,
   "id": "77188ffa",
   "metadata": {},
   "outputs": [],
   "source": [
    "point_vals = [{'c1':1, 'c2':0, 'c3':0, 'c4':0, 'v1':0.8, 'v2':0.4, 'v3':0.8, 'v4':0.2, 'v5':0.8}]\n",
    "\n",
    "point = pd.DataFrame(point_vals )\n"
   ]
  },
  {
   "cell_type": "code",
   "execution_count": null,
   "id": "b83ae761",
   "metadata": {},
   "outputs": [],
   "source": [
    "prob_a = lr_a.predict_proba(point)\n",
    "print(prob_a)"
   ]
  },
  {
   "cell_type": "markdown",
   "id": "9079bc95",
   "metadata": {},
   "source": [
    "### C1"
   ]
  },
  {
   "cell_type": "code",
   "execution_count": null,
   "id": "cca46936",
   "metadata": {},
   "outputs": [],
   "source": [
    "df_c1 = df[['Timestep','c1', 'v1']]\n",
    "len(df_c1)"
   ]
  },
  {
   "cell_type": "code",
   "execution_count": null,
   "id": "99222762",
   "metadata": {
    "scrolled": true
   },
   "outputs": [],
   "source": [
    "df_c1['c1_prev'] = df_c1['c1'].shift(periods=1)\n",
    "df_c1['a_prev']= df['Action'].shift(periods=1)\n",
    "print(df_c1.head())\n",
    "print(len(df_c1))"
   ]
  },
  {
   "cell_type": "code",
   "execution_count": null,
   "id": "e1297199",
   "metadata": {},
   "outputs": [],
   "source": [
    "df_c1 = df_c1[df_c1['Timestep'] != 0]\n",
    "print(df_c1.head())\n",
    "print(len(df_c1))"
   ]
  },
  {
   "cell_type": "code",
   "execution_count": null,
   "id": "4162e716",
   "metadata": {
    "scrolled": true
   },
   "outputs": [],
   "source": [
    "X_c1 = df_c1[['v1', 'c1_prev', 'a_prev']]\n",
    "c1 = df_c1['c1']\n",
    "\n",
    "Xc1_train, Xc1_test, yc1_train, yc1_test = train_test_split(X_c1,c1, train_size=0.9)\n",
    "\n",
    "\n",
    "lr_c1 = linear_model.LogisticRegression(max_iter = 10000)\n",
    "lr_c1.fit(Xc1_train, yc1_train)"
   ]
  },
  {
   "cell_type": "code",
   "execution_count": null,
   "id": "87b995fb",
   "metadata": {},
   "outputs": [],
   "source": [
    "predicted_c1 = lr_c1.predict(Xc1_test)\n",
    "print(predicted_c1)"
   ]
  },
  {
   "cell_type": "code",
   "execution_count": null,
   "id": "2b912c9a",
   "metadata": {},
   "outputs": [],
   "source": [
    "score_c1 = accuracy_score(yc1_test,predicted_c1)\n",
    "print(score_c1)"
   ]
  },
  {
   "cell_type": "code",
   "execution_count": null,
   "id": "b25aa5da",
   "metadata": {},
   "outputs": [],
   "source": [
    "### C2\n",
    "\n",
    "df_c2 = df[['Timestep','c2', 'v2']]\n",
    "\n",
    "df_c2['c2_prev'] = df_c2['c2'].shift(periods=1)\n",
    "df_c2['a_prev']= df['Action'].shift(periods=1)\n",
    "\n",
    "df_c2 = df_c2[df_c2['Timestep'] != 0]\n",
    "\n",
    "\n",
    "X_c2 = df_c2[['v2', 'c2_prev', 'a_prev']]\n",
    "c2 = df_c2['c2']\n",
    "\n",
    "Xc2_train, Xc2_test, yc2_train, yc2_test = train_test_split(X_c2,c2, train_size=0.9)\n",
    "\n",
    "\n",
    "lr_c2 = linear_model.LogisticRegression(max_iter = 10000)\n",
    "lr_c2.fit(Xc2_train, yc2_train)\n",
    "\n",
    "predicted_c2 = lr_c2.predict(Xc2_test)\n",
    "print(predicted_c2)\n",
    "\n",
    "score_c2 = accuracy_score(yc2_test,predicted_c2)\n",
    "print(score_c2)"
   ]
  },
  {
   "cell_type": "code",
   "execution_count": null,
   "id": "fb10cc7b",
   "metadata": {
    "scrolled": true
   },
   "outputs": [],
   "source": [
    "### C3\n",
    "\n",
    "df_c3 = df[['Timestep','c3', 'v3']]\n",
    "\n",
    "df_c3['c3_prev'] = df_c3['c3'].shift(periods=1)\n",
    "df_c3['a_prev']= df['Action'].shift(periods=1)\n",
    "\n",
    "df_c3 = df_c3[df_c3['Timestep'] != 0]\n",
    "\n",
    "\n",
    "X_c3 = df_c3[['v3', 'c3_prev', 'a_prev']]\n",
    "c3 = df_c3['c3']\n",
    "\n",
    "Xc3_train, Xc3_test, yc3_train, yc3_test = train_test_split(X_c3,c3, train_size=0.9)\n",
    "\n",
    "\n",
    "lr_c3 = linear_model.LogisticRegression(max_iter = 10000)\n",
    "lr_c3.fit(Xc3_train, yc3_train)\n",
    "\n",
    "predicted_c3 = lr_c3.predict(Xc3_test)\n",
    "print(predicted_c3)\n",
    "\n",
    "score_c3 = accuracy_score(yc3_test,predicted_c3)\n",
    "print(score_c3)\n"
   ]
  },
  {
   "cell_type": "code",
   "execution_count": null,
   "id": "ca5ed494",
   "metadata": {
    "scrolled": false
   },
   "outputs": [],
   "source": [
    "### C4\n",
    "\n",
    "df_c4 = df[['Timestep','c4', 'v4']]\n",
    "\n",
    "df_c4['c4_prev'] = df_c4['c4'].shift(periods=1)\n",
    "df_c4['a_prev']= df['Action'].shift(periods=1)\n",
    "\n",
    "df_c4 = df_c4[df_c4['Timestep'] != 0]\n",
    "\n",
    "\n",
    "X_c4 = df_c4[['v4', 'c4_prev', 'a_prev']]\n",
    "c4 = df_c4['c4']\n",
    "\n",
    "Xc4_train, Xc4_test, yc4_train, yc4_test = train_test_split(X_c4,c4, train_size=0.9)\n",
    "\n",
    "\n",
    "lr_c4 = linear_model.LogisticRegression(max_iter = 10000)\n",
    "lr_c4.fit(Xc4_train, yc4_train)\n",
    "\n",
    "predicted_c4 = lr_c4.predict(Xc4_test)\n",
    "print(predicted_c4)\n",
    "\n",
    "score_c4 = accuracy_score(yc4_test,predicted_c4)\n",
    "print(score_c4)\n"
   ]
  },
  {
   "cell_type": "markdown",
   "id": "d282e734",
   "metadata": {},
   "source": [
    "### V1"
   ]
  },
  {
   "cell_type": "code",
   "execution_count": null,
   "id": "cf63924d",
   "metadata": {},
   "outputs": [],
   "source": [
    "df_v1 = df[['Timestep', 'v1']]\n",
    "df_v1.v1 = df_v1.v1.round(1)\n",
    "print(df_v1.head())"
   ]
  },
  {
   "cell_type": "code",
   "execution_count": null,
   "id": "a9894515",
   "metadata": {},
   "outputs": [],
   "source": [
    "df_v1 = df[['Timestep', 'v1']]\n",
    "df_v1.v1 = df_v1.v1.round(1)\n",
    "df_v1.v1 = df_v1.v1 *10\n",
    "df_v1.v1 = df_v1.v1.astype(int)\n",
    "\n",
    "df_v1['v1_prev'] = df_v1['v1'].shift(periods=1)\n",
    "df_v1['a_prev']= df['Action'].shift(periods=1)\n",
    "\n",
    "df_v1 = df_v1[df_v1['Timestep'] != 0]\n",
    "\n",
    "\n",
    "print(df_v1)\n"
   ]
  },
  {
   "cell_type": "code",
   "execution_count": null,
   "id": "78568ab6",
   "metadata": {
    "scrolled": true
   },
   "outputs": [],
   "source": [
    "X_v1 = df_v1[['v1_prev', 'a_prev']]\n",
    "v1 = df_v1['v1']\n",
    "\n",
    "Xv1_train, Xv1_test, yv1_train, yv1_test = train_test_split(X_v1, v1, train_size=0.9)\n",
    "\n",
    "lr_v1 = linear_model.LogisticRegression(max_iter = 10000)\n",
    "lr_v1.fit(Xv1_train, yv1_train)\n",
    "\n",
    "predicted_v1 = lr_v1.predict(Xv1_test)\n",
    "print(predicted_v1)\n",
    "\n",
    "score_v1 = accuracy_score(yv1_test,predicted_v1)\n",
    "print(score_v1)"
   ]
  },
  {
   "cell_type": "code",
   "execution_count": null,
   "id": "752be064",
   "metadata": {
    "scrolled": true
   },
   "outputs": [],
   "source": [
    "#V2\n",
    "df_v2 = df[['Timestep', 'v2']]\n",
    "df_v2.v2 = df_v2.v2.round(1)\n",
    "df_v2.v2 = df_v2.v2 *10\n",
    "df_v2.v2 = df_v2.v2.astype(int)\n",
    "\n",
    "df_v2['v2_prev'] = df_v2['v2'].shift(periods=1)\n",
    "df_v2['a_prev']= df['Action'].shift(periods=1)\n",
    "\n",
    "df_v2 = df_v2[df_v2['Timestep'] != 0]\n",
    "\n",
    "X_v2 = df_v2[['v2_prev', 'a_prev']]\n",
    "v2 = df_v2['v2']\n",
    "\n",
    "Xv2_train, Xv2_test, yv2_train, yv2_test = train_test_split(X_v2, v2, train_size=0.9)\n",
    "\n",
    "lr_v2 = linear_model.LogisticRegression(max_iter = 10000)\n",
    "lr_v2.fit(Xv2_train, yv2_train)\n",
    "\n",
    "predicted_v2 = lr_v2.predict(Xv2_test)\n",
    "print(predicted_v2)\n",
    "\n",
    "score_v2 = accuracy_score(yv2_test,predicted_v2)\n",
    "print(score_v2)\n"
   ]
  },
  {
   "cell_type": "code",
   "execution_count": null,
   "id": "80b637d0",
   "metadata": {},
   "outputs": [],
   "source": [
    "df_v3 = df[['Timestep', 'v3']]\n",
    "df_v3.v3 = df_v3.v3.round(1)\n",
    "df_v3.v3 = df_v3.v3 *10\n",
    "df_v3.v3 = df_v3.v3.astype(int)\n",
    "\n",
    "df_v3['v3_prev'] = df_v3['v3'].shift(periods=1)\n",
    "df_v3['a_prev']= df['Action'].shift(periods=1)\n",
    "\n",
    "df_v3 = df_v3[df_v3['Timestep'] != 0]\n",
    "\n",
    "X_v3 = df_v3[['v3_prev', 'a_prev']]\n",
    "v3 = df_v3['v3']\n",
    "\n",
    "Xv3_train, Xv3_test, yv3_train, yv3_test = train_test_split(X_v3, v3, train_size=0.9)\n",
    "\n",
    "lr_v3 = linear_model.LogisticRegression(max_iter = 10000)\n",
    "lr_v3.fit(Xv3_train, yv3_train)\n",
    "\n",
    "predicted_v3 = lr_v3.predict(Xv3_test)\n",
    "print(predicted_v3)\n",
    "\n",
    "score_v3 = accuracy_score(yv3_test,predicted_v3)\n",
    "print(score_v3)\n"
   ]
  },
  {
   "cell_type": "code",
   "execution_count": null,
   "id": "78e62c76",
   "metadata": {},
   "outputs": [],
   "source": [
    "df_v4 = df[['Timestep', 'v4']]\n",
    "df_v4.v4 = df_v4.v4.round(1)\n",
    "df_v4.v4 = df_v4.v4 *10\n",
    "df_v4.v4 = df_v4.v4.astype(int)\n",
    "\n",
    "df_v4['v4_prev'] = df_v4['v4'].shift(periods=1)\n",
    "df_v4['a_prev']= df['Action'].shift(periods=1)\n",
    "\n",
    "df_v4 = df_v4[df_v4['Timestep'] != 0]\n",
    "\n",
    "X_v4 = df_v4[['v4_prev', 'a_prev']]\n",
    "v4 = df_v4['v4']\n",
    "\n",
    "Xv4_train, Xv4_test, yv4_train, yv4_test = train_test_split(X_v4, v4, train_size=0.9)\n",
    "\n",
    "lr_v4 = linear_model.LogisticRegression(max_iter = 10000)\n",
    "lr_v4.fit(Xv4_train, yv4_train)\n",
    "\n",
    "predicted_v4 = lr_v4.predict(Xv4_test)\n",
    "print(predicted_v4)\n",
    "\n",
    "score_v4 = accuracy_score(yv4_test,predicted_v4)\n",
    "print(score_v4)\n"
   ]
  },
  {
   "cell_type": "code",
   "execution_count": null,
   "id": "93ecf688",
   "metadata": {
    "scrolled": true
   },
   "outputs": [],
   "source": [
    "# V5\n",
    "\n",
    "df_v5 = df[['Timestep', 'v5']]\n",
    "df_v5.v5 = df_v5.v5.round(1)\n",
    "df_v5.v5 = df_v5.v5 *10\n",
    "df_v5.v5 = df_v5.v5.astype(int)\n",
    "\n",
    "df_v5['v5_prev'] = df_v5['v5'].shift(periods=1)\n",
    "df_v5['a_prev']= df['Action'].shift(periods=1)\n",
    "\n",
    "df_v5 = df_v5[df_v5['Timestep'] != 0]\n",
    "\n",
    "X_v5 = df_v5[['v5_prev', 'a_prev']]\n",
    "v5 = df_v5['v5']\n",
    "\n",
    "Xv5_train, Xv5_test, yv5_train, yv5_test = train_test_split(X_v5, v5, train_size=0.9)\n",
    "\n",
    "lr_v5 = linear_model.LogisticRegression(max_iter = 10000)\n",
    "lr_v5.fit(Xv5_train, yv5_train)\n",
    "\n",
    "predicted_v5 = lr_v5.predict(Xv5_test)\n",
    "print(predicted_v5)\n",
    "\n",
    "score_v5 = accuracy_score(yv5_test,predicted_v5)\n",
    "print(score_v5)\n"
   ]
  },
  {
   "cell_type": "code",
   "execution_count": null,
   "id": "ae4d2496",
   "metadata": {},
   "outputs": [],
   "source": [
    "t_c1 = [0,1,0,0,1,0,0,1,0,0,0,1,0,1,0,1,0,0,0,1,0,0,0,0,1,1,1,0,1,0]\n",
    "len(t_c1)"
   ]
  },
  {
   "cell_type": "code",
   "execution_count": null,
   "id": "c969461a",
   "metadata": {},
   "outputs": [],
   "source": [
    "t_c2 = [0,0,1,0,0,0,0,0,1,0,0,0,0,0,1,0,1,0,0,0,1,0,0,0,0,1,0,0,0,0]\n",
    "len(t_c2)"
   ]
  },
  {
   "cell_type": "code",
   "execution_count": null,
   "id": "0ee4652f",
   "metadata": {},
   "outputs": [],
   "source": [
    "t_c3 = [0,0,0,0,0,0,0,0,0,1,0,0,0,0,0,0,0,0,0,0,0,0,0,0,0,0,0,0,0,0]\n",
    "len(t_c3)"
   ]
  },
  {
   "cell_type": "code",
   "execution_count": null,
   "id": "1afb91a9",
   "metadata": {
    "scrolled": true
   },
   "outputs": [],
   "source": [
    "t_c4 = list(numpy.repeat(0,30))\n",
    "print(t_c4)\n",
    "len(t_c4)"
   ]
  },
  {
   "cell_type": "code",
   "execution_count": null,
   "id": "ba1b396c",
   "metadata": {},
   "outputs": [],
   "source": [
    "t_v1 = list(numpy.repeat(0.8,27))\n",
    "t_v1.append(0.6)\n",
    "t_v1.append(0.4)\n",
    "t_v1.append(0.4)\n",
    "print(t_v1)"
   ]
  },
  {
   "cell_type": "code",
   "execution_count": null,
   "id": "7b341139",
   "metadata": {},
   "outputs": [],
   "source": [
    "t_v2 = list(numpy.repeat(0.8,19))\n",
    "t_v2 = t_v2 + [0.6,0.6,0.6,0.4,0.2,0.01,0.01,0.01,0.01,0.01,0.01]\n",
    "len(t_v2)"
   ]
  },
  {
   "cell_type": "code",
   "execution_count": null,
   "id": "c1ea1cd5",
   "metadata": {},
   "outputs": [],
   "source": [
    "t_v3 = list(numpy.repeat(0.8,11)) + list(numpy.repeat(0.6,19))\n",
    "len(t_v3)"
   ]
  },
  {
   "cell_type": "code",
   "execution_count": null,
   "id": "82f6d41a",
   "metadata": {},
   "outputs": [],
   "source": [
    "t_v4 = list(numpy.repeat(0.8,4)) + list(numpy.repeat(0.6,2)) + list(numpy.repeat(0.4,1)) + list(numpy.repeat(0.2,23))\n",
    "len(t_v4)"
   ]
  },
  {
   "cell_type": "code",
   "execution_count": null,
   "id": "799955aa",
   "metadata": {},
   "outputs": [],
   "source": [
    "t_v5 = list(numpy.repeat(0.8,1)) + list(numpy.repeat(0.6,12)) + list(numpy.repeat(0.4,5)) + list(numpy.repeat(0.2,12))\n",
    "len(t_v5)"
   ]
  },
  {
   "cell_type": "code",
   "execution_count": null,
   "id": "8ff69205",
   "metadata": {},
   "outputs": [],
   "source": [
    "t_a = [8,7,1,4,7,4,4,7,1,3,2,7,8,7,1,7,1,8,0,7,1,0,0,0,3,1,7,6,7,6]\n",
    "t = [0,1,2,3,4,5,6,7,8,9,10,11,12,13,14,15,16,17,18,19,20,21,22,23,24,25,26,27,28,29]\n",
    "t_c5 = list(numpy.repeat(0,30))\n",
    "\n",
    "len(t_c5)"
   ]
  },
  {
   "cell_type": "code",
   "execution_count": null,
   "id": "9640a6e3",
   "metadata": {},
   "outputs": [],
   "source": [
    "zipped = list(zip(t, t_a, t_c1, t_c2, t_c3, t_c4, t_c5, t_v1, t_v2, t_v3, t_v4, t_v5))\n",
    "\n",
    "t_df = pd.DataFrame(zipped, columns=['Timestep', 'Action','c1', 'c2', 'c3', 'c4', 'c5', 'v1', 'v2', 'v3', 'v4', 'v5'])\n",
    "\n",
    "print(t_df.head(30))\n",
    "\n",
    "predicted = lr_a.predict(t_df[['c1', 'c2', 'c3', 'c4', 'v1', 'v2', 'v3', 'v4', 'v5']])\n",
    "print(predicted)"
   ]
  },
  {
   "cell_type": "code",
   "execution_count": null,
   "id": "354f19ce",
   "metadata": {},
   "outputs": [],
   "source": [
    "tp_df = t_df[['c1', 'c2', 'c3', 'c4', 'v1', 'v2', 'v3', 'v4', 'v5']]"
   ]
  },
  {
   "cell_type": "code",
   "execution_count": null,
   "id": "71afc235",
   "metadata": {},
   "outputs": [],
   "source": [
    "c1_preds = []\n",
    "\n",
    "for i in range(1,30):\n",
    "    c1 = tp_df['c1'][i]\n",
    "    row = tp_df.iloc[i:(i+1)]\n",
    "    if c1 == 0:\n",
    "        row['c1'] = 1\n",
    "    else:\n",
    "        row['c1'] = 0\n",
    "    pred = list(lr_a.predict_proba(row).flatten())\n",
    "    c1_preds.append(pred)\n",
    "    \n",
    "print(c1_preds)\n",
    "print(c1_preds[1])"
   ]
  },
  {
   "cell_type": "code",
   "execution_count": null,
   "id": "e8da6191",
   "metadata": {
    "scrolled": true
   },
   "outputs": [],
   "source": [
    "c1_preds[28]"
   ]
  },
  {
   "cell_type": "code",
   "execution_count": null,
   "id": "81ef83ee",
   "metadata": {},
   "outputs": [],
   "source": [
    "print(t_a)\n",
    "\n",
    "onehot_encoded = list()\n",
    "for value in t_a:\n",
    "    letter = [0 for _ in range(9)]\n",
    "    letter[value] = 1\n",
    "    onehot_encoded.append(letter)\n",
    "print(onehot_encoded)"
   ]
  },
  {
   "cell_type": "code",
   "execution_count": null,
   "id": "8d88a471",
   "metadata": {},
   "outputs": [],
   "source": [
    "import operator\n",
    "from numpy.linalg import norm\n",
    "\n",
    "\n",
    "l = list(map(operator.sub, onehot_encoded[1], c1_preds[1]))\n",
    "l = [float(v) for v in l]\n",
    "arr = numpy.array(l)\n",
    "norm(arr)\n"
   ]
  },
  {
   "cell_type": "code",
   "execution_count": null,
   "id": "7cbd345f",
   "metadata": {},
   "outputs": [],
   "source": [
    "w_c1 = []\n",
    "for i in range(29):\n",
    "    l = list(map(operator.sub, onehot_encoded[(i+1)], c1_preds[i]))\n",
    "    f = [float(v) for v in l]\n",
    "    arr = numpy.array(f)\n",
    "    n = norm(arr)\n",
    "    w_c1.append(n)"
   ]
  },
  {
   "cell_type": "code",
   "execution_count": null,
   "id": "380488d0",
   "metadata": {
    "scrolled": false
   },
   "outputs": [],
   "source": [
    "print(len(w_c1))"
   ]
  },
  {
   "cell_type": "code",
   "execution_count": null,
   "id": "dfe6bc5b",
   "metadata": {},
   "outputs": [],
   "source": []
  },
  {
   "cell_type": "code",
   "execution_count": null,
   "id": "d433df4c",
   "metadata": {},
   "outputs": [],
   "source": [
    "# C2\n",
    "zipped = list(zip(t, t_a, t_c1, t_c2, t_c3, t_c4, t_c5, t_v1, t_v2, t_v3, t_v4, t_v5))\n",
    "\n",
    "t_df = pd.DataFrame(zipped, columns=['Timestep', 'Action','c1', 'c2', 'c3', 'c4', 'c5', 'v1', 'v2', 'v3', 'v4', 'v5'])\n",
    "\n",
    "tp_df = t_df[['c1', 'c2', 'c3', 'c4', 'v1', 'v2', 'v3', 'v4', 'v5']]\n",
    "\n",
    "c2_preds = []\n",
    "\n",
    "for i in range(2,30):\n",
    "    c2 = tp_df['c2'][i]\n",
    "    row = tp_df.iloc[i:(i+1)]\n",
    "    if c2 == 0:\n",
    "        row['c2'] = 1\n",
    "    else:\n",
    "        row['c2'] = 0 \n",
    "    pred = list(lr_a.predict_proba(row).flatten())\n",
    "    c2_preds.append(pred)\n",
    "\n",
    "w_c2 = ['NA']\n",
    "for i in range(28):\n",
    "    l = list(map(operator.sub, onehot_encoded[(i+2)], c2_preds[i]))\n",
    "    f = [float(v) for v in l]\n",
    "    arr = numpy.array(f)\n",
    "    n = norm(arr)\n",
    "    w_c2.append(n)\n",
    "    \n",
    "print(len(w_c2))"
   ]
  },
  {
   "cell_type": "code",
   "execution_count": null,
   "id": "de223e0e",
   "metadata": {
    "scrolled": false
   },
   "outputs": [],
   "source": [
    "## C3\n",
    "\n",
    "zipped = list(zip(t, t_a, t_c1, t_c2, t_c3, t_c4, t_c5, t_v1, t_v2, t_v3, t_v4, t_v5))\n",
    "\n",
    "t_df = pd.DataFrame(zipped, columns=['Timestep', 'Action','c1', 'c2', 'c3', 'c4', 'c5', 'v1', 'v2', 'v3', 'v4', 'v5'])\n",
    "\n",
    "tp_df = t_df[['c1', 'c2', 'c3', 'c4', 'v1', 'v2', 'v3', 'v4', 'v5']]\n",
    "\n",
    "c3_preds = []\n",
    "\n",
    "for i in range(3,30):\n",
    "    c3 = tp_df['c3'][i]\n",
    "    row = tp_df.iloc[i:(i+1)]\n",
    "    if c3 == 0:\n",
    "        row['c3'] = 1\n",
    "    else:\n",
    "        row['c3'] = 0\n",
    "    pred = list(lr_a.predict_proba(row).flatten())\n",
    "    c3_preds.append(pred)\n",
    "\n",
    "w_c3 = ['NA', 'NA']\n",
    "for i in range(27):\n",
    "    l = list(map(operator.sub, onehot_encoded[(i+3)], c3_preds[i]))\n",
    "    f = [float(v) for v in l]\n",
    "    arr = numpy.array(f)\n",
    "    n = norm(arr)\n",
    "    w_c3.append(n)\n",
    "    \n",
    "print(len(w_c3))"
   ]
  },
  {
   "cell_type": "code",
   "execution_count": null,
   "id": "ad41235b",
   "metadata": {},
   "outputs": [],
   "source": [
    "\n",
    "zipped = list(zip(t, t_a, t_c1, t_c2, t_c3, t_c4, t_c5, t_v1, t_v2, t_v3, t_v4, t_v5))\n",
    "\n",
    "t_df = pd.DataFrame(zipped, columns=['Timestep', 'Action','c1', 'c2', 'c3', 'c4', 'c5', 'v1', 'v2', 'v3', 'v4', 'v5'])\n",
    "\n",
    "tp_df = t_df[['c1', 'c2', 'c3', 'c4', 'v1', 'v2', 'v3', 'v4', 'v5']]\n",
    "\n",
    "c4_preds = []\n",
    "\n",
    "for i in range(3,30):\n",
    "    c4 = tp_df['c4'][i]\n",
    "    row = tp_df.iloc[i:(i+1)]\n",
    "    if c4 == 0:\n",
    "        row['c4'] = 1\n",
    "    else:\n",
    "        row['c4'] = 0\n",
    "    pred = list(lr_a.predict_proba(row).flatten())\n",
    "    c4_preds.append(pred)\n",
    "\n",
    "w_c4 = ['NA', 'NA', 'NA']\n",
    "for i in range(26):\n",
    "    l = list(map(operator.sub, onehot_encoded[(i+4)], c4_preds[i]))\n",
    "    f = [float(v) for v in l]\n",
    "    arr = numpy.array(f)\n",
    "    n = norm(arr)\n",
    "    w_c4.append(n)\n",
    "    \n",
    "print(len(w_c4))"
   ]
  },
  {
   "cell_type": "code",
   "execution_count": null,
   "id": "bbdd3150",
   "metadata": {},
   "outputs": [],
   "source": [
    "## V1\n",
    "\n",
    "t_df = pd.DataFrame(zipped, columns=['Timestep', 'Action','c1', 'c2', 'c3', 'c4', 'c5', 'v1', 'v2', 'v3', 'v4', 'v5'])\n",
    "\n",
    "tp_df = t_df[['c1', 'c2', 'c3', 'c4', 'v1', 'v2', 'v3', 'v4', 'v5']]\n",
    "\n",
    "v1_preds = []\n",
    "\n",
    "for i in range(1,30):\n",
    "    v1 = tp_df['v1'][i]\n",
    "    row = tp_df.iloc[i:(i+1)]\n",
    "    prev_row = tp_df.iloc[(i-1):i]\n",
    "    if v1 == 0.01:\n",
    "        row['v1'] = 0.2\n",
    "    elif v1 == 0.2:\n",
    "        row['v1'] = 0.01\n",
    "    elif v1 == 0.4:\n",
    "        row['v1'][1] = 0.2\n",
    "    elif v1 == 0.6:\n",
    "        row['v1'][1] = 0.4\n",
    "    else:\n",
    "        row['v1'][1] = 0.6  \n",
    "    point_vals = [{'v1': row['v1'], 'c1_prev': int(prev_row['c1']), 'a_prev' : int(t_a[(i-1)]) }]\n",
    "    point = pd.DataFrame(point_vals)\n",
    "    row['c1'] = lr_c1.predict(point)\n",
    "    pred = list(lr_a.predict_proba(row).flatten())\n",
    "    v1_preds.append(pred)\n",
    "    tp_df = t_df[['c1', 'c2', 'c3', 'c4', 'v1', 'v2', 'v3', 'v4', 'v5']]\n",
    "\n",
    "w_v1 = []\n",
    "for i in range(29):\n",
    "    l = list(map(operator.sub, onehot_encoded[(i+1)], v1_preds[i]))\n",
    "    f = [float(v) for v in l]\n",
    "    arr = numpy.array(f)\n",
    "    n = norm(arr)\n",
    "    w_v1.append(n)\n",
    "    \n",
    "print(len(w_v1))"
   ]
  },
  {
   "cell_type": "code",
   "execution_count": null,
   "id": "6d5616ce",
   "metadata": {},
   "outputs": [],
   "source": [
    "## V2\n",
    "\n",
    "t_df = pd.DataFrame(zipped, columns=['Timestep', 'Action','c1', 'c2', 'c3', 'c4', 'c5', 'v1', 'v2', 'v3', 'v4', 'v5'])\n",
    "\n",
    "tp_df = t_df[['c1', 'c2', 'c3', 'c4', 'v1', 'v2', 'v3', 'v4', 'v5']]\n",
    "\n",
    "v2_preds = []\n",
    "\n",
    "for i in range(1,30):\n",
    "    v2 = tp_df['v2'][i]\n",
    "    row = tp_df.iloc[i:(i+1)]\n",
    "    prev_row = tp_df.iloc[(i-1):i]\n",
    "    if v2 == 0.01:\n",
    "        row['v2'] = 0.2\n",
    "    elif v1 == 0.2:\n",
    "        row['v2'] = 0.01\n",
    "    elif v1 == 0.4:\n",
    "        row['v2'][1] = 0.2\n",
    "    elif v1 == 0.6:\n",
    "        row['v2'][1] = 0.4\n",
    "    else:\n",
    "        row['v2'][1] = 0.6  \n",
    "    point_vals = [{'v2': row['v2'], 'c2_prev': int(prev_row['c2']), 'a_prev' : int(t_a[(i-1)]) }]\n",
    "    point = pd.DataFrame(point_vals)\n",
    "    row['c2'] = lr_c2.predict(point)\n",
    "    pred = list(lr_a.predict_proba(row).flatten())\n",
    "    v2_preds.append(pred)\n",
    "    tp_df = t_df[['c1', 'c2', 'c3', 'c4', 'v1', 'v2', 'v3', 'v4', 'v5']]\n",
    "\n",
    "w_v2 = []\n",
    "for i in range(29):\n",
    "    l = list(map(operator.sub, onehot_encoded[(i+1)], v2_preds[i]))\n",
    "    f = [float(v) for v in l]\n",
    "    arr = numpy.array(f)\n",
    "    n = norm(arr)\n",
    "    w_v2.append(n)\n",
    "    \n",
    "print(len(w_v2))"
   ]
  },
  {
   "cell_type": "code",
   "execution_count": null,
   "id": "2fb2f5d5",
   "metadata": {
    "scrolled": false
   },
   "outputs": [],
   "source": [
    "## V3\n",
    "\n",
    "t_df = pd.DataFrame(zipped, columns=['Timestep', 'Action','c1', 'c2', 'c3', 'c4', 'c5', 'v1', 'v2', 'v3', 'v4', 'v5'])\n",
    "\n",
    "tp_df = t_df[['c1', 'c2', 'c3', 'c4', 'v1', 'v2', 'v3', 'v4', 'v5']]\n",
    "\n",
    "v3_preds = []\n",
    "\n",
    "for i in range(1,30):\n",
    "    v3 = tp_df['v3'][i]\n",
    "    row = tp_df.iloc[i:(i+1)]\n",
    "    prev_row = tp_df.iloc[(i-1):i]\n",
    "    if v3 == 0.01:\n",
    "        row['v3'] = 0.2\n",
    "    elif v1 == 0.2:\n",
    "        row['v3'] = 0.01\n",
    "    elif v3 == 0.4:\n",
    "        row['v3'][1] = 0.2\n",
    "    elif v1 == 0.6:\n",
    "        row['v3'][1] = 0.4\n",
    "    else:\n",
    "        row['v3'][1] = 0.6  \n",
    "    point_vals = [{'v3': row['v3'], 'c3_prev': int(prev_row['c3']), 'a_prev' : int(t_a[(i-1)]) }]\n",
    "    point = pd.DataFrame(point_vals)\n",
    "    row['c3'] = lr_c3.predict(point)\n",
    "    pred = list(lr_a.predict_proba(row).flatten())\n",
    "    v3_preds.append(pred)\n",
    "    tp_df = t_df[['c1', 'c2', 'c3', 'c4', 'v1', 'v2', 'v3', 'v4', 'v5']]\n",
    "\n",
    "w_v3 = []\n",
    "for i in range(29):\n",
    "    l = list(map(operator.sub, onehot_encoded[(i+1)], v3_preds[i]))\n",
    "    f = [float(v) for v in l]\n",
    "    arr = numpy.array(f)\n",
    "    n = norm(arr)\n",
    "    w_v3.append(n)\n",
    "    \n",
    "print(len(w_v3))"
   ]
  },
  {
   "cell_type": "code",
   "execution_count": null,
   "id": "1f8a457b",
   "metadata": {},
   "outputs": [],
   "source": [
    "## V4\n",
    "\n",
    "t_df = pd.DataFrame(zipped, columns=['Timestep', 'Action','c1', 'c2', 'c3', 'c4', 'c5', 'v1', 'v2', 'v3', 'v4', 'v5'])\n",
    "\n",
    "tp_df = t_df[['c1', 'c2', 'c3', 'c4', 'v1', 'v2', 'v3', 'v4', 'v5']]\n",
    "\n",
    "v4_preds = []\n",
    "\n",
    "for i in range(1,30):\n",
    "    v4 = tp_df['v4'][i]\n",
    "    row = tp_df.iloc[i:(i+1)]\n",
    "    prev_row = tp_df.iloc[(i-1):i]\n",
    "    if v4 == 0.01:\n",
    "        row['v4'] = 0.2\n",
    "    elif v1 == 0.2:\n",
    "        row['v4'] = 0.01\n",
    "    elif v1 == 0.4:\n",
    "        row['v4'][1] = 0.2\n",
    "    elif v1 == 0.6:\n",
    "        row['v4'][1] = 0.4\n",
    "    else:\n",
    "        row['v4'][1] = 0.6  \n",
    "    point_vals = [{'v4': row['v4'], 'c4_prev': int(prev_row['c4']), 'a_prev' : int(t_a[(i-1)]) }]\n",
    "    point = pd.DataFrame(point_vals)\n",
    "    row['c4'] = lr_c4.predict(point)\n",
    "    pred = list(lr_a.predict_proba(row).flatten())\n",
    "    v4_preds.append(pred)\n",
    "    tp_df = t_df[['c1', 'c2', 'c3', 'c4', 'v1', 'v2', 'v3', 'v4', 'v5']]\n",
    "\n",
    "w_v4 = []\n",
    "for i in range(29):\n",
    "    l = list(map(operator.sub, onehot_encoded[(i+1)], v4_preds[i]))\n",
    "    f = [float(v) for v in l]\n",
    "    arr = numpy.array(f)\n",
    "    n = norm(arr)\n",
    "    w_v4.append(n)\n",
    "    \n",
    "print(len(w_v4))"
   ]
  },
  {
   "cell_type": "code",
   "execution_count": null,
   "id": "08d9ab11",
   "metadata": {},
   "outputs": [],
   "source": [
    "## V5\n",
    "\n",
    "t_df = pd.DataFrame(zipped, columns=['Timestep', 'Action','c1', 'c2', 'c3', 'c4', 'c5', 'v1', 'v2', 'v3', 'v4', 'v5'])\n",
    "\n",
    "tp_df = t_df[['c1', 'c2', 'c3', 'c4', 'v1', 'v2', 'v3', 'v4', 'v5']]\n",
    "\n",
    "v5_preds = []\n",
    "\n",
    "for i in range(1,30):\n",
    "    v5 = tp_df['v5'][i]\n",
    "    row = tp_df.iloc[i:(i+1)]\n",
    "    prev_row = tp_df.iloc[(i-1):i]\n",
    "    if v1 == 0.01:\n",
    "        row['v5'] = 0.2\n",
    "    elif v1 == 0.2:\n",
    "        row['v5'] = 0.01\n",
    "    elif v1 == 0.4:\n",
    "        row['v5'][1] = 0.2\n",
    "    elif v1 == 0.6:\n",
    "        row['v5'][1] = 0.4\n",
    "    else:\n",
    "        row['v5'][1] = 0.6  \n",
    "    pred = list(lr_a.predict_proba(row).flatten())\n",
    "    v5_preds.append(pred)\n",
    "    tp_df = t_df[['c1', 'c2', 'c3', 'c4', 'v1', 'v2', 'v3', 'v4', 'v5']]\n",
    "\n",
    "w_v5 = []\n",
    "for i in range(29):\n",
    "    l = list(map(operator.sub, onehot_encoded[(i+1)], v5_preds[i]))\n",
    "    f = [float(v) for v in l]\n",
    "    arr = numpy.array(f)\n",
    "    n = norm(arr)\n",
    "    w_v5.append(n)\n",
    "    \n",
    "print(len(w_v5))"
   ]
  },
  {
   "cell_type": "code",
   "execution_count": null,
   "id": "d9e4e49e",
   "metadata": {},
   "outputs": [],
   "source": [
    "zipped = list(zip(w_c1,w_c2, w_c3, w_c4, w_v1, w_v2, w_v3, w_v4, w_v5))\n",
    "\n",
    "weights_df= pd.DataFrame(zipped, columns=['w_c1', 'w_c2', 'w_c3', 'w_c4', 'w_v1', 'w_v2', 'w_v3', 'w_v4', 'w_v5'])\n",
    "\n",
    "print(weights_df)"
   ]
  },
  {
   "cell_type": "code",
   "execution_count": null,
   "id": "f6ae26cf",
   "metadata": {},
   "outputs": [],
   "source": [
    "file_name = 'weights.xlsx'\n",
    "  \n",
    "# saving the excel\n",
    "weights_df.to_excel(file_name)\n",
    "print('DataFrame is written to Excel File successfully.')"
   ]
  }
 ],
 "metadata": {
  "kernelspec": {
   "display_name": "Python 3 (ipykernel)",
   "language": "python",
   "name": "python3"
  },
  "language_info": {
   "codemirror_mode": {
    "name": "ipython",
    "version": 3
   },
   "file_extension": ".py",
   "mimetype": "text/x-python",
   "name": "python",
   "nbconvert_exporter": "python",
   "pygments_lexer": "ipython3",
   "version": "3.10.9"
  }
 },
 "nbformat": 4,
 "nbformat_minor": 5
}
