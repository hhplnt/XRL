{
 "cells": [
  {
   "cell_type": "markdown",
   "id": "afa23c94-7412-40c4-9b60-b22d5f852b7f",
   "metadata": {},
   "source": [
    "## First create network\n"
   ]
  },
  {
   "cell_type": "code",
   "execution_count": 1,
   "id": "10f9dff2-fc35-43db-afb8-f824d6c96e52",
   "metadata": {
    "tags": []
   },
   "outputs": [],
   "source": [
    "from yawning_titan.networks.node import Node\n",
    "from yawning_titan.networks.network import Network"
   ]
  },
  {
   "cell_type": "code",
   "execution_count": 2,
   "id": "b89cb44c-2dba-40c1-9036-60f8ecd0aa8b",
   "metadata": {
    "tags": []
   },
   "outputs": [
    {
     "name": "stdout",
     "output_type": "stream",
     "text": [
      "UUID                                  Name    High Value Node    Entry Node      Vulnerability  Position (x,y)\n",
      "------------------------------------  ------  -----------------  ------------  ---------------  ----------------\n",
      "ec8f26df-9d81-4f4f-906b-3c91731dc429  PC 1    False              True                      0.3  0.01, 1.00\n",
      "60394c53-491b-4784-aded-690e3ecf5d39  PC 2    False              False                     0.3  -0.50, 0.30\n",
      "79cac5ff-3638-423d-b3d0-3cef1f3f6753  PC 3    False              False                     0.3  -0.50, -0.30\n",
      "96450e63-2c41-4bf4-b040-413109a94122  PC 4    False              False                     0.3  0.50, 0.01\n",
      "213d4a78-4fff-4bad-824d-4f68f5ef779b  PC 5    True               False                     0.5  0.01, -1.00\n"
     ]
    }
   ],
   "source": [
    "# Instantiate the Network\n",
    "network = Network()\n",
    "\n",
    "# Instantiate the Node's and add them to the Network\n",
    " \n",
    "pc_1 = Node(\"PC 1\")\n",
    "network.add_node(pc_1)\n",
    "pc_1.x_pos = 0.01\n",
    "pc_1.y_pos = 1.00\n",
    "pc_1.entry_node = True\n",
    "pc_1.vulnerability = 0.3\n",
    "\n",
    "pc_2 = Node(\"PC 2\")\n",
    "network.add_node(pc_2)\n",
    "pc_2.x_pos = -0.50\n",
    "pc_2.y_pos = 0.30\n",
    "pc_2.vulnerability = 0.3\n",
    "\n",
    "pc_3 = Node(\"PC 3\")\n",
    "network.add_node(pc_3)\n",
    "pc_3.x_pos = -0.50\n",
    "pc_3.y_pos = -0.30\n",
    "pc_3.vulnerability = 0.3\n",
    "\n",
    "pc_4 = Node(\"PC 4\")\n",
    "network.add_node(pc_4)\n",
    "pc_4.x_pos = 0.50\n",
    "pc_4.y_pos = 0.01\n",
    "pc_4.vulnerability = 0.3\n",
    "\n",
    "pc_5 = Node(\"PC 5\")\n",
    "network.add_node(pc_5)\n",
    "pc_5.x_pos = 0.01\n",
    "pc_5.y_pos = -1.00\n",
    "pc_5.high_value_node = True\n",
    "pc_5.vulnerability = 0.5\n",
    "\n",
    "\n",
    "# Add the edges between Node's\n",
    "network.add_edge(pc_1, pc_2)\n",
    "network.add_edge(pc_1, pc_4)\n",
    "network.add_edge(pc_2, pc_3)\n",
    "network.add_edge(pc_4, pc_5)\n",
    "network.add_edge(pc_3, pc_5)\n",
    "\n",
    "\n",
    "# Reset the entry nodes, high value nodes, and vulnerability scores by calling .setup()\n",
    "# network.reset()\n",
    "\n",
    "# View the Networks Node Details\n",
    "network.show(verbose=True)\n",
    "\n"
   ]
  },
  {
   "cell_type": "markdown",
   "id": "ce6a97b4-56e6-41e1-8afa-c73481eab8be",
   "metadata": {},
   "source": [
    "## Creating environment and training\n"
   ]
  },
  {
   "cell_type": "code",
   "execution_count": 3,
   "id": "30cf136b",
   "metadata": {},
   "outputs": [],
   "source": [
    "# load notebook extension\n",
    "%load_ext tensorboard"
   ]
  },
  {
   "cell_type": "code",
   "execution_count": 4,
   "id": "5465da69-5a2a-4ba6-b7d2-e67515f44489",
   "metadata": {
    "tags": []
   },
   "outputs": [
    {
     "name": "stderr",
     "output_type": "stream",
     "text": [
      "C:\\Users\\olive\\yawning_titan\\.venv\\lib\\site-packages\\tqdm\\auto.py:21: TqdmWarning: IProgress not found. Please update jupyter and ipywidgets. See https://ipywidgets.readthedocs.io/en/stable/user_install.html\n",
      "  from .autonotebook import tqdm as notebook_tqdm\n"
     ]
    }
   ],
   "source": [
    "#Import packages - SB3\n",
    "import time\n",
    "from stable_baselines3.common.env_checker import check_env\n",
    "from stable_baselines3.common.evaluation import evaluate_policy\n",
    "from stable_baselines3.common.callbacks import EvalCallback\n",
    "from stable_baselines3.common.monitor import Monitor\n",
    "from stable_baselines3 import A2C, DQN, PPO\n",
    "from stable_baselines3.ppo import MlpPolicy as PPOMlp\n",
    "\n",
    "from yawning_titan.envs.generic.core.blue_interface import BlueInterface\n",
    "from yawning_titan.envs.generic.core.red_interface import RedInterface\n",
    "from yawning_titan.envs.generic.generic_env import GenericNetworkEnv\n",
    "from yawning_titan.envs.generic.core.action_loops import ActionLoop\n",
    "from yawning_titan.envs.generic.core.network_interface import NetworkInterface\n",
    "from yawning_titan.networks.network_db import default_18_node_network\n",
    "import yawning_titan.game_modes\n",
    "from yawning_titan.envs.generic.core.action_loops import ActionLoop"
   ]
  },
  {
   "cell_type": "code",
   "execution_count": 5,
   "id": "fa0781bc",
   "metadata": {},
   "outputs": [],
   "source": [
    "## Using DB\n",
    "from yawning_titan.game_modes.game_mode_db import GameModeDB, GameModeSchema\n",
    "from yawning_titan.db.doc_metadata import DocMetadataSchema\n",
    "db = GameModeDB()"
   ]
  },
  {
   "cell_type": "code",
   "execution_count": 6,
   "id": "51cb62d0",
   "metadata": {},
   "outputs": [],
   "source": [
    "# Example\n",
    "#results = db.search(GameModeSchema.CONFIGURATION.RED.AGENT_ATTACK.IGNORES_DEFENCES.all([True]))\n",
    "#print(results)\n",
    "\n",
    "#Finding my game mode\n",
    "#author = db.search(DocMetadataSchema.AUTHOR == \"Hannah Harrison\")\n",
    "#print(author)"
   ]
  },
  {
   "cell_type": "code",
   "execution_count": 7,
   "id": "70f8ac7d",
   "metadata": {},
   "outputs": [
    {
     "ename": "JSONDecodeError",
     "evalue": "Extra data: line 1 column 15878 (char 15877)",
     "output_type": "error",
     "traceback": [
      "\u001b[1;31m---------------------------------------------------------------------------\u001b[0m",
      "\u001b[1;31mJSONDecodeError\u001b[0m                           Traceback (most recent call last)",
      "Cell \u001b[1;32mIn[7], line 1\u001b[0m\n\u001b[1;32m----> 1\u001b[0m \u001b[43mdb\u001b[49m\u001b[38;5;241;43m.\u001b[39;49m\u001b[43mshow\u001b[49m\u001b[43m(\u001b[49m\u001b[38;5;28;43;01mTrue\u001b[39;49;00m\u001b[43m)\u001b[49m\n",
      "File \u001b[1;32m~\\yawning_titan\\.venv\\lib\\site-packages\\yawning_titan\\game_modes\\game_mode_db.py:160\u001b[0m, in \u001b[0;36mGameModeDB.show\u001b[1;34m(self, verbose)\u001b[0m\n\u001b[0;32m    153\u001b[0m \u001b[38;5;28;01mdef\u001b[39;00m \u001b[38;5;21mshow\u001b[39m(\u001b[38;5;28mself\u001b[39m, verbose\u001b[38;5;241m=\u001b[39m\u001b[38;5;28;01mFalse\u001b[39;00m):\n\u001b[0;32m    154\u001b[0m \u001b[38;5;250m    \u001b[39m\u001b[38;5;124;03m\"\"\"\u001b[39;00m\n\u001b[0;32m    155\u001b[0m \u001b[38;5;124;03m    Show details of all entries in the db.\u001b[39;00m\n\u001b[0;32m    156\u001b[0m \n\u001b[0;32m    157\u001b[0m \u001b[38;5;124;03m    :param verbose: If True, all doc metadata details are shown,\u001b[39;00m\n\u001b[0;32m    158\u001b[0m \u001b[38;5;124;03m        otherwise just the name is shown.\u001b[39;00m\n\u001b[0;32m    159\u001b[0m \u001b[38;5;124;03m    \"\"\"\u001b[39;00m\n\u001b[1;32m--> 160\u001b[0m     \u001b[38;5;28;43mself\u001b[39;49m\u001b[38;5;241;43m.\u001b[39;49m\u001b[43m_db\u001b[49m\u001b[38;5;241;43m.\u001b[39;49m\u001b[43mshow\u001b[49m\u001b[43m(\u001b[49m\u001b[43mverbose\u001b[49m\u001b[43m)\u001b[49m\n",
      "File \u001b[1;32m~\\yawning_titan\\.venv\\lib\\site-packages\\yawning_titan\\db\\yawning_titan_db.py:153\u001b[0m, in \u001b[0;36mYawningTitanDB.show\u001b[1;34m(self, verbose)\u001b[0m\n\u001b[0;32m    146\u001b[0m \u001b[38;5;28;01mdef\u001b[39;00m \u001b[38;5;21mshow\u001b[39m(\u001b[38;5;28mself\u001b[39m, verbose\u001b[38;5;241m=\u001b[39m\u001b[38;5;28;01mFalse\u001b[39;00m):\n\u001b[0;32m    147\u001b[0m \u001b[38;5;250m    \u001b[39m\u001b[38;5;124;03m\"\"\"\u001b[39;00m\n\u001b[0;32m    148\u001b[0m \u001b[38;5;124;03m    Show details of all entries in the db.\u001b[39;00m\n\u001b[0;32m    149\u001b[0m \n\u001b[0;32m    150\u001b[0m \u001b[38;5;124;03m    :param verbose: If True, all doc metadata details are shown,\u001b[39;00m\n\u001b[0;32m    151\u001b[0m \u001b[38;5;124;03m        otherwise just the name is shown.\u001b[39;00m\n\u001b[0;32m    152\u001b[0m \u001b[38;5;124;03m    \"\"\"\u001b[39;00m\n\u001b[1;32m--> 153\u001b[0m     docs \u001b[38;5;241m=\u001b[39m \u001b[38;5;28;43mself\u001b[39;49m\u001b[38;5;241;43m.\u001b[39;49m\u001b[43mall\u001b[49m\u001b[43m(\u001b[49m\u001b[43m)\u001b[49m\n\u001b[0;32m    154\u001b[0m     rows \u001b[38;5;241m=\u001b[39m []\n\u001b[0;32m    155\u001b[0m     headers \u001b[38;5;241m=\u001b[39m []\n",
      "File \u001b[1;32m~\\yawning_titan\\.venv\\lib\\site-packages\\yawning_titan\\db\\yawning_titan_db.py:144\u001b[0m, in \u001b[0;36mYawningTitanDB.all\u001b[1;34m(self)\u001b[0m\n\u001b[0;32m    142\u001b[0m \u001b[38;5;28;01mdef\u001b[39;00m \u001b[38;5;21mall\u001b[39m(\u001b[38;5;28mself\u001b[39m) \u001b[38;5;241m-\u001b[39m\u001b[38;5;241m>\u001b[39m List[Document]:\n\u001b[0;32m    143\u001b[0m \u001b[38;5;250m    \u001b[39m\u001b[38;5;124;03m\"\"\"A wrapper for :func:`tinydb.table.Table.all`.\"\"\"\u001b[39;00m\n\u001b[1;32m--> 144\u001b[0m     \u001b[38;5;28;01mreturn\u001b[39;00m \u001b[38;5;28;43mself\u001b[39;49m\u001b[38;5;241;43m.\u001b[39;49m\u001b[43mdb\u001b[49m\u001b[38;5;241;43m.\u001b[39;49m\u001b[43mall\u001b[49m\u001b[43m(\u001b[49m\u001b[43m)\u001b[49m\n",
      "File \u001b[1;32m~\\yawning_titan\\.venv\\lib\\site-packages\\tinydb\\table.py:233\u001b[0m, in \u001b[0;36mTable.all\u001b[1;34m(self)\u001b[0m\n\u001b[0;32m    222\u001b[0m \u001b[38;5;250m\u001b[39m\u001b[38;5;124;03m\"\"\"\u001b[39;00m\n\u001b[0;32m    223\u001b[0m \u001b[38;5;124;03mGet all documents stored in the table.\u001b[39;00m\n\u001b[0;32m    224\u001b[0m \n\u001b[0;32m    225\u001b[0m \u001b[38;5;124;03m:returns: a list with all documents.\u001b[39;00m\n\u001b[0;32m    226\u001b[0m \u001b[38;5;124;03m\"\"\"\u001b[39;00m\n\u001b[0;32m    228\u001b[0m \u001b[38;5;66;03m# iter(self) (implemented in Table.__iter__ provides an iterator\u001b[39;00m\n\u001b[0;32m    229\u001b[0m \u001b[38;5;66;03m# that returns all documents in this table. We use it to get a list\u001b[39;00m\n\u001b[0;32m    230\u001b[0m \u001b[38;5;66;03m# of all documents by using the ``list`` constructor to perform the\u001b[39;00m\n\u001b[0;32m    231\u001b[0m \u001b[38;5;66;03m# conversion.\u001b[39;00m\n\u001b[1;32m--> 233\u001b[0m \u001b[38;5;28;01mreturn\u001b[39;00m \u001b[38;5;28;43mlist\u001b[39;49m\u001b[43m(\u001b[49m\u001b[38;5;28;43miter\u001b[39;49m\u001b[43m(\u001b[49m\u001b[38;5;28;43mself\u001b[39;49m\u001b[43m)\u001b[49m\u001b[43m)\u001b[49m\n",
      "File \u001b[1;32m~\\yawning_titan\\.venv\\lib\\site-packages\\tinydb\\table.py:636\u001b[0m, in \u001b[0;36mTable.__iter__\u001b[1;34m(self)\u001b[0m\n\u001b[0;32m    629\u001b[0m \u001b[38;5;250m\u001b[39m\u001b[38;5;124;03m\"\"\"\u001b[39;00m\n\u001b[0;32m    630\u001b[0m \u001b[38;5;124;03mIterate over all documents stored in the table.\u001b[39;00m\n\u001b[0;32m    631\u001b[0m \n\u001b[0;32m    632\u001b[0m \u001b[38;5;124;03m:returns: an iterator over all documents.\u001b[39;00m\n\u001b[0;32m    633\u001b[0m \u001b[38;5;124;03m\"\"\"\u001b[39;00m\n\u001b[0;32m    635\u001b[0m \u001b[38;5;66;03m# Iterate all documents and their IDs\u001b[39;00m\n\u001b[1;32m--> 636\u001b[0m \u001b[38;5;28;01mfor\u001b[39;00m doc_id, doc \u001b[38;5;129;01min\u001b[39;00m \u001b[38;5;28;43mself\u001b[39;49m\u001b[38;5;241;43m.\u001b[39;49m\u001b[43m_read_table\u001b[49m\u001b[43m(\u001b[49m\u001b[43m)\u001b[49m\u001b[38;5;241m.\u001b[39mitems():\n\u001b[0;32m    637\u001b[0m     \u001b[38;5;66;03m# Convert documents to the document class\u001b[39;00m\n\u001b[0;32m    638\u001b[0m     \u001b[38;5;28;01myield\u001b[39;00m \u001b[38;5;28mself\u001b[39m\u001b[38;5;241m.\u001b[39mdocument_class(doc, \u001b[38;5;28mself\u001b[39m\u001b[38;5;241m.\u001b[39mdocument_id_class(doc_id))\n",
      "File \u001b[1;32m~\\yawning_titan\\.venv\\lib\\site-packages\\tinydb\\table.py:685\u001b[0m, in \u001b[0;36mTable._read_table\u001b[1;34m(self)\u001b[0m\n\u001b[0;32m    676\u001b[0m \u001b[38;5;250m\u001b[39m\u001b[38;5;124;03m\"\"\"\u001b[39;00m\n\u001b[0;32m    677\u001b[0m \u001b[38;5;124;03mRead the table data from the underlying storage.\u001b[39;00m\n\u001b[0;32m    678\u001b[0m \n\u001b[1;32m   (...)\u001b[0m\n\u001b[0;32m    681\u001b[0m \u001b[38;5;124;03monly one document for example.\u001b[39;00m\n\u001b[0;32m    682\u001b[0m \u001b[38;5;124;03m\"\"\"\u001b[39;00m\n\u001b[0;32m    684\u001b[0m \u001b[38;5;66;03m# Retrieve the tables from the storage\u001b[39;00m\n\u001b[1;32m--> 685\u001b[0m tables \u001b[38;5;241m=\u001b[39m \u001b[38;5;28;43mself\u001b[39;49m\u001b[38;5;241;43m.\u001b[39;49m\u001b[43m_storage\u001b[49m\u001b[38;5;241;43m.\u001b[39;49m\u001b[43mread\u001b[49m\u001b[43m(\u001b[49m\u001b[43m)\u001b[49m\n\u001b[0;32m    687\u001b[0m \u001b[38;5;28;01mif\u001b[39;00m tables \u001b[38;5;129;01mis\u001b[39;00m \u001b[38;5;28;01mNone\u001b[39;00m:\n\u001b[0;32m    688\u001b[0m     \u001b[38;5;66;03m# The database is empty\u001b[39;00m\n\u001b[0;32m    689\u001b[0m     \u001b[38;5;28;01mreturn\u001b[39;00m {}\n",
      "File \u001b[1;32m~\\yawning_titan\\.venv\\lib\\site-packages\\tinydb\\storages.py:125\u001b[0m, in \u001b[0;36mJSONStorage.read\u001b[1;34m(self)\u001b[0m\n\u001b[0;32m    122\u001b[0m \u001b[38;5;28mself\u001b[39m\u001b[38;5;241m.\u001b[39m_handle\u001b[38;5;241m.\u001b[39mseek(\u001b[38;5;241m0\u001b[39m)\n\u001b[0;32m    124\u001b[0m \u001b[38;5;66;03m# Load the JSON contents of the file\u001b[39;00m\n\u001b[1;32m--> 125\u001b[0m \u001b[38;5;28;01mreturn\u001b[39;00m \u001b[43mjson\u001b[49m\u001b[38;5;241;43m.\u001b[39;49m\u001b[43mload\u001b[49m\u001b[43m(\u001b[49m\u001b[38;5;28;43mself\u001b[39;49m\u001b[38;5;241;43m.\u001b[39;49m\u001b[43m_handle\u001b[49m\u001b[43m)\u001b[49m\n",
      "File \u001b[1;32mC:\\Program Files\\WindowsApps\\PythonSoftwareFoundation.Python.3.9_3.9.3568.0_x64__qbz5n2kfra8p0\\lib\\json\\__init__.py:293\u001b[0m, in \u001b[0;36mload\u001b[1;34m(fp, cls, object_hook, parse_float, parse_int, parse_constant, object_pairs_hook, **kw)\u001b[0m\n\u001b[0;32m    274\u001b[0m \u001b[38;5;28;01mdef\u001b[39;00m \u001b[38;5;21mload\u001b[39m(fp, \u001b[38;5;241m*\u001b[39m, \u001b[38;5;28mcls\u001b[39m\u001b[38;5;241m=\u001b[39m\u001b[38;5;28;01mNone\u001b[39;00m, object_hook\u001b[38;5;241m=\u001b[39m\u001b[38;5;28;01mNone\u001b[39;00m, parse_float\u001b[38;5;241m=\u001b[39m\u001b[38;5;28;01mNone\u001b[39;00m,\n\u001b[0;32m    275\u001b[0m         parse_int\u001b[38;5;241m=\u001b[39m\u001b[38;5;28;01mNone\u001b[39;00m, parse_constant\u001b[38;5;241m=\u001b[39m\u001b[38;5;28;01mNone\u001b[39;00m, object_pairs_hook\u001b[38;5;241m=\u001b[39m\u001b[38;5;28;01mNone\u001b[39;00m, \u001b[38;5;241m*\u001b[39m\u001b[38;5;241m*\u001b[39mkw):\n\u001b[0;32m    276\u001b[0m \u001b[38;5;250m    \u001b[39m\u001b[38;5;124;03m\"\"\"Deserialize ``fp`` (a ``.read()``-supporting file-like object containing\u001b[39;00m\n\u001b[0;32m    277\u001b[0m \u001b[38;5;124;03m    a JSON document) to a Python object.\u001b[39;00m\n\u001b[0;32m    278\u001b[0m \n\u001b[1;32m   (...)\u001b[0m\n\u001b[0;32m    291\u001b[0m \u001b[38;5;124;03m    kwarg; otherwise ``JSONDecoder`` is used.\u001b[39;00m\n\u001b[0;32m    292\u001b[0m \u001b[38;5;124;03m    \"\"\"\u001b[39;00m\n\u001b[1;32m--> 293\u001b[0m     \u001b[38;5;28;01mreturn\u001b[39;00m loads(fp\u001b[38;5;241m.\u001b[39mread(),\n\u001b[0;32m    294\u001b[0m         \u001b[38;5;28mcls\u001b[39m\u001b[38;5;241m=\u001b[39m\u001b[38;5;28mcls\u001b[39m, object_hook\u001b[38;5;241m=\u001b[39mobject_hook,\n\u001b[0;32m    295\u001b[0m         parse_float\u001b[38;5;241m=\u001b[39mparse_float, parse_int\u001b[38;5;241m=\u001b[39mparse_int,\n\u001b[0;32m    296\u001b[0m         parse_constant\u001b[38;5;241m=\u001b[39mparse_constant, object_pairs_hook\u001b[38;5;241m=\u001b[39mobject_pairs_hook, \u001b[38;5;241m*\u001b[39m\u001b[38;5;241m*\u001b[39mkw)\n",
      "File \u001b[1;32mC:\\Program Files\\WindowsApps\\PythonSoftwareFoundation.Python.3.9_3.9.3568.0_x64__qbz5n2kfra8p0\\lib\\json\\__init__.py:346\u001b[0m, in \u001b[0;36mloads\u001b[1;34m(s, cls, object_hook, parse_float, parse_int, parse_constant, object_pairs_hook, **kw)\u001b[0m\n\u001b[0;32m    341\u001b[0m     s \u001b[38;5;241m=\u001b[39m s\u001b[38;5;241m.\u001b[39mdecode(detect_encoding(s), \u001b[38;5;124m'\u001b[39m\u001b[38;5;124msurrogatepass\u001b[39m\u001b[38;5;124m'\u001b[39m)\n\u001b[0;32m    343\u001b[0m \u001b[38;5;28;01mif\u001b[39;00m (\u001b[38;5;28mcls\u001b[39m \u001b[38;5;129;01mis\u001b[39;00m \u001b[38;5;28;01mNone\u001b[39;00m \u001b[38;5;129;01mand\u001b[39;00m object_hook \u001b[38;5;129;01mis\u001b[39;00m \u001b[38;5;28;01mNone\u001b[39;00m \u001b[38;5;129;01mand\u001b[39;00m\n\u001b[0;32m    344\u001b[0m         parse_int \u001b[38;5;129;01mis\u001b[39;00m \u001b[38;5;28;01mNone\u001b[39;00m \u001b[38;5;129;01mand\u001b[39;00m parse_float \u001b[38;5;129;01mis\u001b[39;00m \u001b[38;5;28;01mNone\u001b[39;00m \u001b[38;5;129;01mand\u001b[39;00m\n\u001b[0;32m    345\u001b[0m         parse_constant \u001b[38;5;129;01mis\u001b[39;00m \u001b[38;5;28;01mNone\u001b[39;00m \u001b[38;5;129;01mand\u001b[39;00m object_pairs_hook \u001b[38;5;129;01mis\u001b[39;00m \u001b[38;5;28;01mNone\u001b[39;00m \u001b[38;5;129;01mand\u001b[39;00m \u001b[38;5;129;01mnot\u001b[39;00m kw):\n\u001b[1;32m--> 346\u001b[0m     \u001b[38;5;28;01mreturn\u001b[39;00m \u001b[43m_default_decoder\u001b[49m\u001b[38;5;241;43m.\u001b[39;49m\u001b[43mdecode\u001b[49m\u001b[43m(\u001b[49m\u001b[43ms\u001b[49m\u001b[43m)\u001b[49m\n\u001b[0;32m    347\u001b[0m \u001b[38;5;28;01mif\u001b[39;00m \u001b[38;5;28mcls\u001b[39m \u001b[38;5;129;01mis\u001b[39;00m \u001b[38;5;28;01mNone\u001b[39;00m:\n\u001b[0;32m    348\u001b[0m     \u001b[38;5;28mcls\u001b[39m \u001b[38;5;241m=\u001b[39m JSONDecoder\n",
      "File \u001b[1;32mC:\\Program Files\\WindowsApps\\PythonSoftwareFoundation.Python.3.9_3.9.3568.0_x64__qbz5n2kfra8p0\\lib\\json\\decoder.py:340\u001b[0m, in \u001b[0;36mJSONDecoder.decode\u001b[1;34m(self, s, _w)\u001b[0m\n\u001b[0;32m    338\u001b[0m end \u001b[38;5;241m=\u001b[39m _w(s, end)\u001b[38;5;241m.\u001b[39mend()\n\u001b[0;32m    339\u001b[0m \u001b[38;5;28;01mif\u001b[39;00m end \u001b[38;5;241m!=\u001b[39m \u001b[38;5;28mlen\u001b[39m(s):\n\u001b[1;32m--> 340\u001b[0m     \u001b[38;5;28;01mraise\u001b[39;00m JSONDecodeError(\u001b[38;5;124m\"\u001b[39m\u001b[38;5;124mExtra data\u001b[39m\u001b[38;5;124m\"\u001b[39m, s, end)\n\u001b[0;32m    341\u001b[0m \u001b[38;5;28;01mreturn\u001b[39;00m obj\n",
      "\u001b[1;31mJSONDecodeError\u001b[0m: Extra data: line 1 column 15878 (char 15877)"
     ]
    }
   ],
   "source": [
    "db.show(True)"
   ]
  },
  {
   "cell_type": "code",
   "execution_count": null,
   "id": "6b5bb5d0",
   "metadata": {},
   "outputs": [],
   "source": [
    "game_mode = db.get(\"919da33c-7bc9-4d29-99eb-097a7e9bb016\")"
   ]
  },
  {
   "cell_type": "code",
   "execution_count": null,
   "id": "e66e1add-8ee8-4d54-81e2-71e1fa62cfa4",
   "metadata": {
    "tags": []
   },
   "outputs": [],
   "source": [
    "## Build network interface\n",
    "network_interface = NetworkInterface(game_mode=game_mode, network=network)"
   ]
  },
  {
   "cell_type": "code",
   "execution_count": null,
   "id": "2c014789-0765-48b4-831b-46860bec4fee",
   "metadata": {
    "tags": []
   },
   "outputs": [],
   "source": [
    "## Name agents\n",
    "red = RedInterface(network_interface)\n",
    "blue = BlueInterface(network_interface)"
   ]
  },
  {
   "cell_type": "code",
   "execution_count": null,
   "id": "77f43d14-9df2-4e17-857b-9b6bbbf1d140",
   "metadata": {
    "tags": []
   },
   "outputs": [],
   "source": [
    "## Create environment\n",
    "env = GenericNetworkEnv(red, blue, network_interface)"
   ]
  },
  {
   "cell_type": "code",
   "execution_count": null,
   "id": "2d6fd1a8-512e-45ac-8697-4a060d912cdd",
   "metadata": {
    "tags": []
   },
   "outputs": [],
   "source": [
    "## Check compliant with OpenAI gym\n",
    "check_env(env, warn=True)\n",
    "_ = env.reset()"
   ]
  },
  {
   "cell_type": "code",
   "execution_count": null,
   "id": "d148b91d-f6d7-42a4-b9cc-c5dc4e888a5e",
   "metadata": {
    "scrolled": true,
    "tags": []
   },
   "outputs": [],
   "source": [
    "## Initialise environment callback\n",
    "eval_callback = EvalCallback(Monitor(env), eval_freq=1000, deterministic=False, render=False)"
   ]
  },
  {
   "cell_type": "code",
   "execution_count": null,
   "id": "37f6d185-0cf1-4584-9dee-703ca0bb0298",
   "metadata": {
    "scrolled": false,
    "tags": []
   },
   "outputs": [],
   "source": [
    "## Create agent\n",
    "agent = PPO(PPOMlp, env, verbose=1, tensorboard_log=\"./logs/ppo_YT_simple_tensorboard/\")"
   ]
  },
  {
   "cell_type": "code",
   "execution_count": null,
   "id": "a923d714-7172-48fe-9a51-74b28c0a85a7",
   "metadata": {
    "scrolled": true,
    "tags": []
   },
   "outputs": [],
   "source": [
    "## Train agent for 1M timesteps\n",
    "agent.learn(total_timesteps=100000, n_eval_episodes=1, callback=eval_callback)\n",
    "%tensorboard --logdir ./logs/ppo_YT_simple_tensorboard/"
   ]
  },
  {
   "cell_type": "code",
   "execution_count": null,
   "id": "bd7df4ad-7ee7-46b2-871e-5550c5c334a3",
   "metadata": {
    "tags": []
   },
   "outputs": [],
   "source": [
    "## Save trained agent\n",
    "agent_name = \"ppo-simple-5PC\"\n",
    "agent.save(agent_name)"
   ]
  },
  {
   "cell_type": "markdown",
   "id": "38314341-31dd-4012-8d23-dfab67eea1b1",
   "metadata": {},
   "source": [
    "## Agent evaluation"
   ]
  },
  {
   "cell_type": "code",
   "execution_count": null,
   "id": "a6c174d6-1c79-4b4c-bd57-4430c5509488",
   "metadata": {
    "tags": []
   },
   "outputs": [],
   "source": [
    "\n",
    "# Create a new environment for evaluation\n",
    "eval_env =GenericNetworkEnv(red, blue, network_interface)\n",
    "\n",
    "# Evaluate the model with 10 evaluation episodes and deterministic=True\n",
    "mean_reward, std_reward = evaluate_policy(agent, eval_env, n_eval_episodes=10, deterministic=True)\n",
    "\n",
    "# Print the results\n",
    "print(f\"mean_reward={mean_reward:.2f} +/- {std_reward}\")"
   ]
  },
  {
   "cell_type": "code",
   "execution_count": null,
   "id": "b5b2cdf8-f53c-42d4-9b80-fef20a53ebeb",
   "metadata": {
    "scrolled": true,
    "tags": []
   },
   "outputs": [],
   "source": [
    "loop = ActionLoop(eval_env, agent, episode_count=1)\n",
    "loop.gif_action_loop(save_gif=True, render_network=True, gif_output_directory='.\\gifs', webm_output_directory='.\\gifs')"
   ]
  },
  {
   "cell_type": "code",
   "execution_count": null,
   "id": "b909b438",
   "metadata": {},
   "outputs": [],
   "source": []
  }
 ],
 "metadata": {
  "kernelspec": {
   "display_name": "Python 3 (ipykernel)",
   "language": "python",
   "name": "python3"
  },
  "language_info": {
   "codemirror_mode": {
    "name": "ipython",
    "version": 3
   },
   "file_extension": ".py",
   "mimetype": "text/x-python",
   "name": "python",
   "nbconvert_exporter": "python",
   "pygments_lexer": "ipython3",
   "version": "3.10.9"
  }
 },
 "nbformat": 4,
 "nbformat_minor": 5
}
